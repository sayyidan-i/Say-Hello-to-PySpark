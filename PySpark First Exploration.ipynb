{
 "cells": [
  {
   "cell_type": "code",
   "execution_count": 0,
   "metadata": {
    "application/vnd.databricks.v1+cell": {
     "cellMetadata": {
      "byteLimit": 2048000,
      "rowLimit": 10000
     },
     "inputWidgets": {},
     "nuid": "171ed864-dcff-4c36-ad6c-ddb45f023552",
     "showTitle": false,
     "title": ""
    }
   },
   "outputs": [
    {
     "output_type": "display_data",
     "data": {
      "text/html": [
       "<style scoped>\n",
       "  .table-result-container {\n",
       "    max-height: 300px;\n",
       "    overflow: auto;\n",
       "  }\n",
       "  table, th, td {\n",
       "    border: 1px solid black;\n",
       "    border-collapse: collapse;\n",
       "  }\n",
       "  th, td {\n",
       "    padding: 5px;\n",
       "  }\n",
       "  th {\n",
       "    text-align: left;\n",
       "  }\n",
       "</style><div class='table-result-container'><table class='table-result'><thead style='background-color: white'><tr><th>path</th><th>name</th><th>size</th><th>modificationTime</th></tr></thead><tbody><tr><td>dbfs:/FileStore/tables/first_project/members.csv</td><td>members.csv</td><td>48</td><td>1706310259000</td></tr><tr><td>dbfs:/FileStore/tables/first_project/menu.csv</td><td>menu.csv</td><td>63</td><td>1706310259000</td></tr><tr><td>dbfs:/FileStore/tables/first_project/sales.csv</td><td>sales.csv</td><td>259</td><td>1706310259000</td></tr></tbody></table></div>"
      ]
     },
     "metadata": {
      "application/vnd.databricks.v1+output": {
       "addedWidgets": {},
       "aggData": [],
       "aggError": "",
       "aggOverflow": false,
       "aggSchema": [],
       "aggSeriesLimitReached": false,
       "aggType": "",
       "arguments": {},
       "columnCustomDisplayInfos": {},
       "data": [
        [
         "dbfs:/FileStore/tables/first_project/members.csv",
         "members.csv",
         48,
         1706310259000
        ],
        [
         "dbfs:/FileStore/tables/first_project/menu.csv",
         "menu.csv",
         63,
         1706310259000
        ],
        [
         "dbfs:/FileStore/tables/first_project/sales.csv",
         "sales.csv",
         259,
         1706310259000
        ]
       ],
       "datasetInfos": [],
       "dbfsResultPath": null,
       "isJsonSchema": true,
       "metadata": {
        "isDbfsCommandResult": false
       },
       "overflow": false,
       "plotOptions": {
        "customPlotOptions": {},
        "displayType": "table",
        "pivotAggregation": null,
        "pivotColumns": null,
        "xColumns": null,
        "yColumns": null
       },
       "removedWidgets": [],
       "schema": [
        {
         "metadata": "{}",
         "name": "path",
         "type": "\"string\""
        },
        {
         "metadata": "{}",
         "name": "name",
         "type": "\"string\""
        },
        {
         "metadata": "{}",
         "name": "size",
         "type": "\"long\""
        },
        {
         "metadata": "{}",
         "name": "modificationTime",
         "type": "\"long\""
        }
       ],
       "type": "table"
      }
     },
     "output_type": "display_data"
    }
   ],
   "source": [
    "%fs ls /FileStore/tables/first_project"
   ]
  },
  {
   "cell_type": "markdown",
   "metadata": {
    "application/vnd.databricks.v1+cell": {
     "cellMetadata": {
      "byteLimit": 2048000,
      "rowLimit": 10000
     },
     "inputWidgets": {},
     "nuid": "979f8e8c-032a-48c8-b19d-4750ce9f79ef",
     "showTitle": false,
     "title": ""
    }
   },
   "source": [
    "Import all necessary libraries"
   ]
  },
  {
   "cell_type": "code",
   "execution_count": 0,
   "metadata": {
    "application/vnd.databricks.v1+cell": {
     "cellMetadata": {
      "byteLimit": 2048000,
      "rowLimit": 10000
     },
     "inputWidgets": {},
     "nuid": "4affff50-de16-486e-8150-d82146c711f7",
     "showTitle": false,
     "title": ""
    }
   },
   "outputs": [
    {
     "output_type": "display_data",
     "data": {
      "application/vnd.databricks.v1+bamboolib_hint": "{\"pd.DataFrames\": [], \"version\": \"0.0.1\"}",
      "text/plain": []
     },
     "metadata": {},
     "output_type": "display_data"
    }
   ],
   "source": [
    "# import sql types to define our schemas\n",
    "from pyspark.sql.types import *\n",
    "\n",
    "# import all SQL functions as F to clean and transform data\n",
    "import pyspark.sql.functions as F\n",
    "\n",
    "# to do windows functions\n",
    "from pyspark.sql.window import Window\n",
    "\n",
    "import pandas as pd\n",
    "import matplotlib.pyplot as plt\n",
    "import seaborn as sns"
   ]
  },
  {
   "cell_type": "code",
   "execution_count": 0,
   "metadata": {
    "application/vnd.databricks.v1+cell": {
     "cellMetadata": {
      "byteLimit": 2048000,
      "rowLimit": 10000
     },
     "inputWidgets": {},
     "nuid": "ff23a6a3-5fc4-423f-a2aa-5a545f01b689",
     "showTitle": false,
     "title": ""
    }
   },
   "outputs": [],
   "source": [
    "#dictionary for the all file locations\n",
    "files = {\n",
    "    'menu': '/FileStore/tables/first_project/menu.csv',\n",
    "    'members': '/FileStore/tables/first_project/members.csv',\n",
    "    'sales': '/FileStore/tables/first_project/sales.csv'\n",
    "}"
   ]
  },
  {
   "cell_type": "code",
   "execution_count": 0,
   "metadata": {
    "application/vnd.databricks.v1+cell": {
     "cellMetadata": {
      "byteLimit": 2048000,
      "rowLimit": 10000
     },
     "inputWidgets": {},
     "nuid": "19ae720b-2da3-46f5-bac5-8b5afceb7f2a",
     "showTitle": false,
     "title": ""
    }
   },
   "outputs": [
    {
     "output_type": "display_data",
     "data": {
      "text/html": [
       "<style scoped>\n",
       "  .table-result-container {\n",
       "    max-height: 300px;\n",
       "    overflow: auto;\n",
       "  }\n",
       "  table, th, td {\n",
       "    border: 1px solid black;\n",
       "    border-collapse: collapse;\n",
       "  }\n",
       "  th, td {\n",
       "    padding: 5px;\n",
       "  }\n",
       "  th {\n",
       "    text-align: left;\n",
       "  }\n",
       "</style><div class='table-result-container'><table class='table-result'><thead style='background-color: white'><tr><th>product_id</th><th>product_name</th><th>price</th></tr></thead><tbody><tr><td>1</td><td>sushi</td><td>10</td></tr><tr><td>2</td><td>curry</td><td>15</td></tr><tr><td>3</td><td>ramen</td><td>12</td></tr></tbody></table></div>"
      ]
     },
     "metadata": {
      "application/vnd.databricks.v1+output": {
       "addedWidgets": {},
       "aggData": [],
       "aggError": "",
       "aggOverflow": false,
       "aggSchema": [],
       "aggSeriesLimitReached": false,
       "aggType": "",
       "arguments": {},
       "columnCustomDisplayInfos": {},
       "data": [
        [
         1,
         "sushi",
         10
        ],
        [
         2,
         "curry",
         15
        ],
        [
         3,
         "ramen",
         12
        ]
       ],
       "datasetInfos": [],
       "dbfsResultPath": null,
       "isJsonSchema": true,
       "metadata": {},
       "overflow": false,
       "plotOptions": {
        "customPlotOptions": {},
        "displayType": "table",
        "pivotAggregation": null,
        "pivotColumns": null,
        "xColumns": null,
        "yColumns": null
       },
       "removedWidgets": [],
       "schema": [
        {
         "metadata": "{}",
         "name": "product_id",
         "type": "\"integer\""
        },
        {
         "metadata": "{}",
         "name": "product_name",
         "type": "\"string\""
        },
        {
         "metadata": "{}",
         "name": "price",
         "type": "\"integer\""
        }
       ],
       "type": "table"
      }
     },
     "output_type": "display_data"
    }
   ],
   "source": [
    "# Take a look at the data\n",
    "df_menu = spark.read.csv(files['menu'], header=True, inferSchema=True)\n",
    "display(df_menu)\n",
    "\n",
    "# header=True indicates that the first row in the data contains the header, which will be used as column names.\n",
    "# inferSchema=True instructs PySpark to automatically infer the data types of each column."
   ]
  },
  {
   "cell_type": "code",
   "execution_count": 0,
   "metadata": {
    "application/vnd.databricks.v1+cell": {
     "cellMetadata": {
      "byteLimit": 2048000,
      "rowLimit": 10000
     },
     "inputWidgets": {},
     "nuid": "cc6a2a2a-9769-4ebf-ac41-4c0a8965c663",
     "showTitle": false,
     "title": ""
    }
   },
   "outputs": [
    {
     "output_type": "display_data",
     "data": {
      "text/html": [
       "<style scoped>\n",
       "  .table-result-container {\n",
       "    max-height: 300px;\n",
       "    overflow: auto;\n",
       "  }\n",
       "  table, th, td {\n",
       "    border: 1px solid black;\n",
       "    border-collapse: collapse;\n",
       "  }\n",
       "  th, td {\n",
       "    padding: 5px;\n",
       "  }\n",
       "  th {\n",
       "    text-align: left;\n",
       "  }\n",
       "</style><div class='table-result-container'><table class='table-result'><thead style='background-color: white'><tr><th>customer_id</th><th>order_date</th><th>product_id</th></tr></thead><tbody><tr><td>A</td><td>2021-01-01</td><td>1</td></tr><tr><td>A</td><td>2021-01-01</td><td>2</td></tr><tr><td>A</td><td>2021-01-07</td><td>2</td></tr><tr><td>A</td><td>2021-01-10</td><td>3</td></tr><tr><td>A</td><td>2021-01-11</td><td>3</td></tr><tr><td>A</td><td>2021-01-11</td><td>3</td></tr><tr><td>B</td><td>2021-01-01</td><td>2</td></tr><tr><td>B</td><td>2021-01-02</td><td>2</td></tr><tr><td>B</td><td>2021-01-04</td><td>1</td></tr><tr><td>B</td><td>2021-01-11</td><td>1</td></tr><tr><td>B</td><td>2021-01-16</td><td>3</td></tr><tr><td>B</td><td>2021-02-01</td><td>3</td></tr><tr><td>C</td><td>2021-01-01</td><td>3</td></tr><tr><td>C</td><td>2021-01-01</td><td>3</td></tr><tr><td>C</td><td>2021-01-07</td><td>3</td></tr></tbody></table></div>"
      ]
     },
     "metadata": {
      "application/vnd.databricks.v1+output": {
       "addedWidgets": {},
       "aggData": [],
       "aggError": "",
       "aggOverflow": false,
       "aggSchema": [],
       "aggSeriesLimitReached": false,
       "aggType": "",
       "arguments": {},
       "columnCustomDisplayInfos": {},
       "data": [
        [
         "A",
         "2021-01-01",
         1
        ],
        [
         "A",
         "2021-01-01",
         2
        ],
        [
         "A",
         "2021-01-07",
         2
        ],
        [
         "A",
         "2021-01-10",
         3
        ],
        [
         "A",
         "2021-01-11",
         3
        ],
        [
         "A",
         "2021-01-11",
         3
        ],
        [
         "B",
         "2021-01-01",
         2
        ],
        [
         "B",
         "2021-01-02",
         2
        ],
        [
         "B",
         "2021-01-04",
         1
        ],
        [
         "B",
         "2021-01-11",
         1
        ],
        [
         "B",
         "2021-01-16",
         3
        ],
        [
         "B",
         "2021-02-01",
         3
        ],
        [
         "C",
         "2021-01-01",
         3
        ],
        [
         "C",
         "2021-01-01",
         3
        ],
        [
         "C",
         "2021-01-07",
         3
        ]
       ],
       "datasetInfos": [],
       "dbfsResultPath": null,
       "isJsonSchema": true,
       "metadata": {},
       "overflow": false,
       "plotOptions": {
        "customPlotOptions": {},
        "displayType": "table",
        "pivotAggregation": null,
        "pivotColumns": null,
        "xColumns": null,
        "yColumns": null
       },
       "removedWidgets": [],
       "schema": [
        {
         "metadata": "{}",
         "name": "customer_id",
         "type": "\"string\""
        },
        {
         "metadata": "{\"__detected_date_formats\":\"yyyy-M-d\"}",
         "name": "order_date",
         "type": "\"date\""
        },
        {
         "metadata": "{}",
         "name": "product_id",
         "type": "\"integer\""
        }
       ],
       "type": "table"
      }
     },
     "output_type": "display_data"
    }
   ],
   "source": [
    "df_sales = spark.read.csv(files['sales'], header=True, inferSchema=True)\n",
    "display(df_sales)"
   ]
  },
  {
   "cell_type": "code",
   "execution_count": 0,
   "metadata": {
    "application/vnd.databricks.v1+cell": {
     "cellMetadata": {
      "byteLimit": 2048000,
      "rowLimit": 10000
     },
     "inputWidgets": {},
     "nuid": "35c25729-5342-4d9e-9641-3415cca016ea",
     "showTitle": false,
     "title": ""
    }
   },
   "outputs": [
    {
     "output_type": "display_data",
     "data": {
      "text/html": [
       "<style scoped>\n",
       "  .table-result-container {\n",
       "    max-height: 300px;\n",
       "    overflow: auto;\n",
       "  }\n",
       "  table, th, td {\n",
       "    border: 1px solid black;\n",
       "    border-collapse: collapse;\n",
       "  }\n",
       "  th, td {\n",
       "    padding: 5px;\n",
       "  }\n",
       "  th {\n",
       "    text-align: left;\n",
       "  }\n",
       "</style><div class='table-result-container'><table class='table-result'><thead style='background-color: white'><tr><th>customer_id</th><th>join_date</th></tr></thead><tbody><tr><td>A</td><td>2021-01-07</td></tr><tr><td>B</td><td>2021-01-09</td></tr></tbody></table></div>"
      ]
     },
     "metadata": {
      "application/vnd.databricks.v1+output": {
       "addedWidgets": {},
       "aggData": [],
       "aggError": "",
       "aggOverflow": false,
       "aggSchema": [],
       "aggSeriesLimitReached": false,
       "aggType": "",
       "arguments": {},
       "columnCustomDisplayInfos": {},
       "data": [
        [
         "A",
         "2021-01-07"
        ],
        [
         "B",
         "2021-01-09"
        ]
       ],
       "datasetInfos": [],
       "dbfsResultPath": null,
       "isJsonSchema": true,
       "metadata": {},
       "overflow": false,
       "plotOptions": {
        "customPlotOptions": {},
        "displayType": "table",
        "pivotAggregation": null,
        "pivotColumns": null,
        "xColumns": null,
        "yColumns": null
       },
       "removedWidgets": [],
       "schema": [
        {
         "metadata": "{}",
         "name": "customer_id",
         "type": "\"string\""
        },
        {
         "metadata": "{\"__detected_date_formats\":\"yyyy-M-d\"}",
         "name": "join_date",
         "type": "\"date\""
        }
       ],
       "type": "table"
      }
     },
     "output_type": "display_data"
    }
   ],
   "source": [
    "df_members = spark.read.csv(files['members'], header=True, inferSchema=True)\n",
    "display(df_members)"
   ]
  },
  {
   "cell_type": "markdown",
   "metadata": {
    "application/vnd.databricks.v1+cell": {
     "cellMetadata": {
      "byteLimit": 2048000,
      "rowLimit": 10000
     },
     "inputWidgets": {},
     "nuid": "d2182b68-1432-49f9-85da-8086e7518b4e",
     "showTitle": false,
     "title": ""
    }
   },
   "source": [
    "If you don't specify a schema, PySpark will attempt to infer it dynamically based on the data in the source, which is convenient but may result in longer job startup times.\n",
    "- We use 'StructType' to specify the overall structure of our DataFrame by defining list of 'StructField' objects\n",
    "- 'StructField' is used to define a single field (column) within a 'StructType'\n",
    "- Each 'StructField' contains three main parameter, column name, data type,\n",
    "\n",
    "If we concerns about performane and data quality, better we specify our table schema"
   ]
  },
  {
   "cell_type": "code",
   "execution_count": 0,
   "metadata": {
    "application/vnd.databricks.v1+cell": {
     "cellMetadata": {
      "byteLimit": 2048000,
      "rowLimit": 10000
     },
     "inputWidgets": {},
     "nuid": "c3a23453-ab86-4ce5-98a8-73f68f4875a4",
     "showTitle": false,
     "title": ""
    }
   },
   "outputs": [],
   "source": [
    "# Define the proper schema\n",
    "menu_schema = StructType([\n",
    "    StructField('product_id', IntegerType(), False),\n",
    "    StructField('product_name', StringType(), False),\n",
    "    StructField('price', IntegerType(), False)\n",
    "])\n",
    "\n",
    "sales_schema = StructType ([\n",
    "    StructField('customer_id', StringType(), False),\n",
    "    StructField('order_date', DateType(), False),\n",
    "    StructField('product_id', IntegerType(), False)\n",
    "])\n",
    "\n",
    "members_schema = StructType ([\n",
    "    StructField('customer_id', StringType(), False),\n",
    "    StructField('join_date', DateType(), False)\n",
    "])"
   ]
  },
  {
   "cell_type": "code",
   "execution_count": 0,
   "metadata": {
    "application/vnd.databricks.v1+cell": {
     "cellMetadata": {
      "byteLimit": 2048000,
      "rowLimit": 10000
     },
     "inputWidgets": {},
     "nuid": "029852f5-a228-49d9-8170-50535e6a64f5",
     "showTitle": false,
     "title": ""
    }
   },
   "outputs": [
    {
     "output_type": "display_data",
     "data": {
      "text/html": [
       "<style scoped>\n",
       "  .table-result-container {\n",
       "    max-height: 300px;\n",
       "    overflow: auto;\n",
       "  }\n",
       "  table, th, td {\n",
       "    border: 1px solid black;\n",
       "    border-collapse: collapse;\n",
       "  }\n",
       "  th, td {\n",
       "    padding: 5px;\n",
       "  }\n",
       "  th {\n",
       "    text-align: left;\n",
       "  }\n",
       "</style><div class='table-result-container'><table class='table-result'><thead style='background-color: white'><tr><th>product_id</th><th>product_name</th><th>price</th></tr></thead><tbody><tr><td>1</td><td>sushi</td><td>10</td></tr><tr><td>2</td><td>curry</td><td>15</td></tr><tr><td>3</td><td>ramen</td><td>12</td></tr></tbody></table></div>"
      ]
     },
     "metadata": {
      "application/vnd.databricks.v1+output": {
       "addedWidgets": {},
       "aggData": [],
       "aggError": "",
       "aggOverflow": false,
       "aggSchema": [],
       "aggSeriesLimitReached": false,
       "aggType": "",
       "arguments": {},
       "columnCustomDisplayInfos": {},
       "data": [
        [
         1,
         "sushi",
         10
        ],
        [
         2,
         "curry",
         15
        ],
        [
         3,
         "ramen",
         12
        ]
       ],
       "datasetInfos": [],
       "dbfsResultPath": null,
       "isJsonSchema": true,
       "metadata": {},
       "overflow": false,
       "plotOptions": {
        "customPlotOptions": {},
        "displayType": "table",
        "pivotAggregation": null,
        "pivotColumns": null,
        "xColumns": null,
        "yColumns": null
       },
       "removedWidgets": [],
       "schema": [
        {
         "metadata": "{}",
         "name": "product_id",
         "type": "\"integer\""
        },
        {
         "metadata": "{}",
         "name": "product_name",
         "type": "\"string\""
        },
        {
         "metadata": "{}",
         "name": "price",
         "type": "\"integer\""
        }
       ],
       "type": "table"
      }
     },
     "output_type": "display_data"
    }
   ],
   "source": [
    "# Create the file pyspark DataFrame for menu table\n",
    "menu_df = (\n",
    "    spark\n",
    "    .read.format('csv')\n",
    "    .options(header=True)\n",
    "    .schema(menu_schema)\n",
    "    .load(files['menu'])\n",
    "    )\n",
    "display(menu_df)"
   ]
  },
  {
   "cell_type": "code",
   "execution_count": 0,
   "metadata": {
    "application/vnd.databricks.v1+cell": {
     "cellMetadata": {
      "byteLimit": 2048000,
      "rowLimit": 10000
     },
     "inputWidgets": {},
     "nuid": "d26dd804-5160-486c-ac94-5f9ec1c3d6f9",
     "showTitle": false,
     "title": ""
    }
   },
   "outputs": [
    {
     "output_type": "display_data",
     "data": {
      "text/html": [
       "<style scoped>\n",
       "  .table-result-container {\n",
       "    max-height: 300px;\n",
       "    overflow: auto;\n",
       "  }\n",
       "  table, th, td {\n",
       "    border: 1px solid black;\n",
       "    border-collapse: collapse;\n",
       "  }\n",
       "  th, td {\n",
       "    padding: 5px;\n",
       "  }\n",
       "  th {\n",
       "    text-align: left;\n",
       "  }\n",
       "</style><div class='table-result-container'><table class='table-result'><thead style='background-color: white'><tr><th>customer_id</th><th>order_date</th><th>product_id</th></tr></thead><tbody><tr><td>A</td><td>2021-01-01</td><td>1</td></tr><tr><td>A</td><td>2021-01-01</td><td>2</td></tr><tr><td>A</td><td>2021-01-07</td><td>2</td></tr><tr><td>A</td><td>2021-01-10</td><td>3</td></tr><tr><td>A</td><td>2021-01-11</td><td>3</td></tr><tr><td>A</td><td>2021-01-11</td><td>3</td></tr><tr><td>B</td><td>2021-01-01</td><td>2</td></tr><tr><td>B</td><td>2021-01-02</td><td>2</td></tr><tr><td>B</td><td>2021-01-04</td><td>1</td></tr><tr><td>B</td><td>2021-01-11</td><td>1</td></tr><tr><td>B</td><td>2021-01-16</td><td>3</td></tr><tr><td>B</td><td>2021-02-01</td><td>3</td></tr><tr><td>C</td><td>2021-01-01</td><td>3</td></tr><tr><td>C</td><td>2021-01-01</td><td>3</td></tr><tr><td>C</td><td>2021-01-07</td><td>3</td></tr></tbody></table></div>"
      ]
     },
     "metadata": {
      "application/vnd.databricks.v1+output": {
       "addedWidgets": {},
       "aggData": [],
       "aggError": "",
       "aggOverflow": false,
       "aggSchema": [],
       "aggSeriesLimitReached": false,
       "aggType": "",
       "arguments": {},
       "columnCustomDisplayInfos": {},
       "data": [
        [
         "A",
         "2021-01-01",
         1
        ],
        [
         "A",
         "2021-01-01",
         2
        ],
        [
         "A",
         "2021-01-07",
         2
        ],
        [
         "A",
         "2021-01-10",
         3
        ],
        [
         "A",
         "2021-01-11",
         3
        ],
        [
         "A",
         "2021-01-11",
         3
        ],
        [
         "B",
         "2021-01-01",
         2
        ],
        [
         "B",
         "2021-01-02",
         2
        ],
        [
         "B",
         "2021-01-04",
         1
        ],
        [
         "B",
         "2021-01-11",
         1
        ],
        [
         "B",
         "2021-01-16",
         3
        ],
        [
         "B",
         "2021-02-01",
         3
        ],
        [
         "C",
         "2021-01-01",
         3
        ],
        [
         "C",
         "2021-01-01",
         3
        ],
        [
         "C",
         "2021-01-07",
         3
        ]
       ],
       "datasetInfos": [],
       "dbfsResultPath": null,
       "isJsonSchema": true,
       "metadata": {},
       "overflow": false,
       "plotOptions": {
        "customPlotOptions": {},
        "displayType": "table",
        "pivotAggregation": null,
        "pivotColumns": null,
        "xColumns": null,
        "yColumns": null
       },
       "removedWidgets": [],
       "schema": [
        {
         "metadata": "{}",
         "name": "customer_id",
         "type": "\"string\""
        },
        {
         "metadata": "{}",
         "name": "order_date",
         "type": "\"date\""
        },
        {
         "metadata": "{}",
         "name": "product_id",
         "type": "\"integer\""
        }
       ],
       "type": "table"
      }
     },
     "output_type": "display_data"
    }
   ],
   "source": [
    "# Create the file pyspark DataFrame for sales table\n",
    "sales_df = (\n",
    "    spark\n",
    "    .read.format('csv')\n",
    "    .options(header=True)\n",
    "    .schema(sales_schema)\n",
    "    .load(files['sales'])\n",
    "    )\n",
    "display(sales_df)"
   ]
  },
  {
   "cell_type": "code",
   "execution_count": 0,
   "metadata": {
    "application/vnd.databricks.v1+cell": {
     "cellMetadata": {
      "byteLimit": 2048000,
      "rowLimit": 10000
     },
     "inputWidgets": {},
     "nuid": "8ac9abb4-1126-484b-9725-bfddf8885396",
     "showTitle": false,
     "title": ""
    }
   },
   "outputs": [
    {
     "output_type": "display_data",
     "data": {
      "text/html": [
       "<style scoped>\n",
       "  .table-result-container {\n",
       "    max-height: 300px;\n",
       "    overflow: auto;\n",
       "  }\n",
       "  table, th, td {\n",
       "    border: 1px solid black;\n",
       "    border-collapse: collapse;\n",
       "  }\n",
       "  th, td {\n",
       "    padding: 5px;\n",
       "  }\n",
       "  th {\n",
       "    text-align: left;\n",
       "  }\n",
       "</style><div class='table-result-container'><table class='table-result'><thead style='background-color: white'><tr><th>customer_id</th><th>join_date</th></tr></thead><tbody><tr><td>A</td><td>2021-01-07</td></tr><tr><td>B</td><td>2021-01-09</td></tr></tbody></table></div>"
      ]
     },
     "metadata": {
      "application/vnd.databricks.v1+output": {
       "addedWidgets": {},
       "aggData": [],
       "aggError": "",
       "aggOverflow": false,
       "aggSchema": [],
       "aggSeriesLimitReached": false,
       "aggType": "",
       "arguments": {},
       "columnCustomDisplayInfos": {},
       "data": [
        [
         "A",
         "2021-01-07"
        ],
        [
         "B",
         "2021-01-09"
        ]
       ],
       "datasetInfos": [],
       "dbfsResultPath": null,
       "isJsonSchema": true,
       "metadata": {},
       "overflow": false,
       "plotOptions": {
        "customPlotOptions": {},
        "displayType": "table",
        "pivotAggregation": null,
        "pivotColumns": null,
        "xColumns": null,
        "yColumns": null
       },
       "removedWidgets": [],
       "schema": [
        {
         "metadata": "{}",
         "name": "customer_id",
         "type": "\"string\""
        },
        {
         "metadata": "{}",
         "name": "join_date",
         "type": "\"date\""
        }
       ],
       "type": "table"
      }
     },
     "output_type": "display_data"
    }
   ],
   "source": [
    "# Create the file pyspark DataFrame for members table\n",
    "members_df = (\n",
    "    spark\n",
    "    .read.format('csv')\n",
    "    .options(header=True)\n",
    "    .schema(members_schema)\n",
    "    .load(files['members'])\n",
    "    )\n",
    "display(members_df)"
   ]
  },
  {
   "cell_type": "markdown",
   "metadata": {
    "application/vnd.databricks.v1+cell": {
     "cellMetadata": {
      "byteLimit": 2048000,
      "rowLimit": 10000
     },
     "inputWidgets": {},
     "nuid": "52a503f7-728b-4bc3-be2d-ffd70a18b900",
     "showTitle": false,
     "title": ""
    }
   },
   "source": [
    "### 1. How much each customer spend in the restaurant?"
   ]
  },
  {
   "cell_type": "markdown",
   "metadata": {
    "application/vnd.databricks.v1+cell": {
     "cellMetadata": {
      "byteLimit": 2048000,
      "rowLimit": 10000
     },
     "inputWidgets": {},
     "nuid": "7e85c19b-7f25-42b2-a808-c2440d9f0666",
     "showTitle": false,
     "title": ""
    }
   },
   "source": [
    "To answer this question, we need join sales df and menu df first and then we calculate total sales by summing the values based on the price and then grouped by customer_id"
   ]
  },
  {
   "cell_type": "code",
   "execution_count": 0,
   "metadata": {
    "application/vnd.databricks.v1+cell": {
     "cellMetadata": {
      "byteLimit": 2048000,
      "rowLimit": 10000
     },
     "inputWidgets": {},
     "nuid": "69b3a23b-f5ae-4646-a202-b246358190ae",
     "showTitle": false,
     "title": ""
    }
   },
   "outputs": [
    {
     "output_type": "display_data",
     "data": {
      "text/html": [
       "<style scoped>\n",
       "  .table-result-container {\n",
       "    max-height: 300px;\n",
       "    overflow: auto;\n",
       "  }\n",
       "  table, th, td {\n",
       "    border: 1px solid black;\n",
       "    border-collapse: collapse;\n",
       "  }\n",
       "  th, td {\n",
       "    padding: 5px;\n",
       "  }\n",
       "  th {\n",
       "    text-align: left;\n",
       "  }\n",
       "</style><div class='table-result-container'><table class='table-result'><thead style='background-color: white'><tr><th>customer_id</th><th>Total Spend</th></tr></thead><tbody><tr><td>A</td><td>76</td></tr><tr><td>B</td><td>74</td></tr><tr><td>C</td><td>36</td></tr></tbody></table></div>"
      ]
     },
     "metadata": {
      "application/vnd.databricks.v1+output": {
       "addedWidgets": {},
       "aggData": [],
       "aggError": "",
       "aggOverflow": false,
       "aggSchema": [],
       "aggSeriesLimitReached": false,
       "aggType": "",
       "arguments": {},
       "columnCustomDisplayInfos": {},
       "data": [
        [
         "A",
         76
        ],
        [
         "B",
         74
        ],
        [
         "C",
         36
        ]
       ],
       "datasetInfos": [],
       "dbfsResultPath": null,
       "isJsonSchema": true,
       "metadata": {},
       "overflow": false,
       "plotOptions": {
        "customPlotOptions": {},
        "displayType": "table",
        "pivotAggregation": null,
        "pivotColumns": null,
        "xColumns": null,
        "yColumns": null
       },
       "removedWidgets": [],
       "schema": [
        {
         "metadata": "{}",
         "name": "customer_id",
         "type": "\"string\""
        },
        {
         "metadata": "{}",
         "name": "Total Spend",
         "type": "\"long\""
        }
       ],
       "type": "table"
      }
     },
     "output_type": "display_data"
    }
   ],
   "source": [
    "Q1= (\n",
    "    sales_df\n",
    "    .join(\n",
    "        menu_df,\n",
    "        sales_df.product_id == menu_df.product_id,\n",
    "        \"inner\")\n",
    "    .groupBy('customer_id')\n",
    "    .agg(\n",
    "        F.sum('price').alias('Total Spend'))\n",
    "    .orderBy(F.col('Total Spend').desc())\n",
    ")\n",
    "display(Q1)"
   ]
  },
  {
   "cell_type": "markdown",
   "metadata": {
    "application/vnd.databricks.v1+cell": {
     "cellMetadata": {
      "byteLimit": 2048000,
      "rowLimit": 10000
     },
     "inputWidgets": {},
     "nuid": "9f062ac8-8aeb-416d-97aa-52d76af39897",
     "showTitle": false,
     "title": ""
    }
   },
   "source": [
    "We can see from table generated above, each customer with their total spend. We can graph too using toPandas"
   ]
  },
  {
   "cell_type": "code",
   "execution_count": 0,
   "metadata": {
    "application/vnd.databricks.v1+cell": {
     "cellMetadata": {
      "byteLimit": 2048000,
      "rowLimit": 10000
     },
     "inputWidgets": {},
     "nuid": "56209ab9-d591-4b4c-ab14-fbdb1366ec42",
     "showTitle": false,
     "title": ""
    }
   },
   "outputs": [
    {
     "output_type": "stream",
     "name": "stdout",
     "output_type": "stream",
     "text": [
      "Out[12]: <function matplotlib.pyplot.show(close=None, block=None)>"
     ]
    },
    {
     "output_type": "display_data",
     "data": {
      "image/png": "[encoded data removed]"
     },
     "metadata": {
      "application/vnd.databricks.v1+output": {
       "addedWidgets": {},
       "arguments": {},
       "data": "data:image/png;base64,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\n",
       "datasetInfos": [],
       "metadata": {},
       "removedWidgets": [],
       "type": "image"
      }
     },
     "output_type": "display_data"
    }
   ],
   "source": [
    "Q1_pandas = Q1.toPandas()\n",
    "sns.set('notebook')\n",
    "sns.set_style('white')\n",
    "fig, ax = plt.subplots()\n",
    "\n",
    "sns.barplot(\n",
    "    data=Q1_pandas,\n",
    "    x='customer_id',\n",
    "    y='Total Spend',\n",
    "    ax=ax\n",
    ")\n",
    "\n",
    "fig.suptitle('Total Spend by each customer', fontsize=20)\n",
    "plt.xlabel('Customer', fontsize=18),\n",
    "plt.ylabel('Total Spend', fontsize=16)\n",
    "\n",
    "plt.show"
   ]
  },
  {
   "cell_type": "code",
   "execution_count": 0,
   "metadata": {
    "application/vnd.databricks.v1+cell": {
     "cellMetadata": {
      "byteLimit": 2048000,
      "rowLimit": 10000
     },
     "inputWidgets": {},
     "nuid": "f4e60c20-7964-4333-a423-43930284dd90",
     "showTitle": false,
     "title": ""
    }
   },
   "outputs": [
    {
     "output_type": "display_data",
     "data": {
      "image/png": "[encoded data removed]"
     },
     "metadata": {
      "application/vnd.databricks.v1+output": {
       "addedWidgets": {},
       "arguments": {},
       "data": "data:image/png;base64,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\n",
       "datasetInfos": [],
       "metadata": {},
       "removedWidgets": [],
       "type": "image"
      }
     },
     "output_type": "display_data"
    }
   ],
   "source": [
    "import matplotlib.pyplot as plt\n",
    "import seaborn as sns\n",
    "\n",
    "customer_ids = Q1_pandas['customer_id']\n",
    "total_spend = Q1_pandas['Total Spend']\n",
    "\n",
    "# Set the color palette\n",
    "colors = sns.color_palette('pastel')[0:len(customer_ids)]\n",
    "\n",
    "# Create a pie chart\n",
    "plt.figure(figsize=(8, 8))\n",
    "plt.title('Total Spending Distribution by Customer')\n",
    "plt.pie(total_spend, labels=customer_ids, autopct='%1.1f%%', colors=colors, startangle=90)\n",
    "plt.show()\n"
   ]
  },
  {
   "cell_type": "markdown",
   "metadata": {
    "application/vnd.databricks.v1+cell": {
     "cellMetadata": {
      "byteLimit": 2048000,
      "rowLimit": 10000
     },
     "inputWidgets": {},
     "nuid": "3b73d21a-7540-4b26-ad3a-ae05401ef838",
     "showTitle": false,
     "title": ""
    }
   },
   "source": [
    "### Q2: How many days has each client visited the restaurant?"
   ]
  },
  {
   "cell_type": "markdown",
   "metadata": {
    "application/vnd.databricks.v1+cell": {
     "cellMetadata": {
      "byteLimit": 2048000,
      "rowLimit": 10000
     },
     "inputWidgets": {},
     "nuid": "b78c06de-647f-4d2b-97fa-272160485915",
     "showTitle": false,
     "title": ""
    }
   },
   "source": [
    "To answer this question, we can focus on sales table.\n",
    "We can group customer id and count distinct order date "
   ]
  },
  {
   "cell_type": "code",
   "execution_count": 0,
   "metadata": {
    "application/vnd.databricks.v1+cell": {
     "cellMetadata": {
      "byteLimit": 2048000,
      "rowLimit": 10000
     },
     "inputWidgets": {},
     "nuid": "a4a0705a-796f-4cde-a5d1-41ad1b00c43d",
     "showTitle": false,
     "title": ""
    }
   },
   "outputs": [
    {
     "output_type": "display_data",
     "data": {
      "text/html": [
       "<style scoped>\n",
       "  .table-result-container {\n",
       "    max-height: 300px;\n",
       "    overflow: auto;\n",
       "  }\n",
       "  table, th, td {\n",
       "    border: 1px solid black;\n",
       "    border-collapse: collapse;\n",
       "  }\n",
       "  th, td {\n",
       "    padding: 5px;\n",
       "  }\n",
       "  th {\n",
       "    text-align: left;\n",
       "  }\n",
       "</style><div class='table-result-container'><table class='table-result'><thead style='background-color: white'><tr><th>customer_id</th><th>Days</th></tr></thead><tbody><tr><td>B</td><td>6</td></tr><tr><td>A</td><td>4</td></tr><tr><td>C</td><td>2</td></tr></tbody></table></div>"
      ]
     },
     "metadata": {
      "application/vnd.databricks.v1+output": {
       "addedWidgets": {},
       "aggData": [],
       "aggError": "",
       "aggOverflow": false,
       "aggSchema": [],
       "aggSeriesLimitReached": false,
       "aggType": "",
       "arguments": {},
       "columnCustomDisplayInfos": {},
       "data": [
        [
         "B",
         6
        ],
        [
         "A",
         4
        ],
        [
         "C",
         2
        ]
       ],
       "datasetInfos": [],
       "dbfsResultPath": null,
       "isJsonSchema": true,
       "metadata": {},
       "overflow": false,
       "plotOptions": {
        "customPlotOptions": {},
        "displayType": "table",
        "pivotAggregation": null,
        "pivotColumns": null,
        "xColumns": null,
        "yColumns": null
       },
       "removedWidgets": [],
       "schema": [
        {
         "metadata": "{}",
         "name": "customer_id",
         "type": "\"string\""
        },
        {
         "metadata": "{}",
         "name": "Days",
         "type": "\"long\""
        }
       ],
       "type": "table"
      }
     },
     "output_type": "display_data"
    },
    {
     "output_type": "display_data",
     "data": {
      "text/plain": [
       "Databricks visualization. Run in Databricks to view."
      ]
     },
     "metadata": {
      "application/vnd.databricks.v1.subcommand+json": {
       "baseErrorDetails": null,
       "bindings": {},
       "collapsed": false,
       "command": "%python\n__backend_agg_display_orig = display\n__backend_agg_dfs = []\ndef __backend_agg_display_new(df):\n    __backend_agg_df_modules = [\"pandas.core.frame\", \"databricks.koalas.frame\", \"pyspark.sql.dataframe\", \"pyspark.pandas.frame\", \"pyspark.sql.connect.dataframe\"]\n    if (type(df).__module__ in __backend_agg_df_modules and type(df).__name__ == 'DataFrame') or isinstance(df, list):\n        __backend_agg_dfs.append(df)\n\ndisplay = __backend_agg_display_new\n\ndef __backend_agg_user_code_fn():\n    import base64\n    exec(base64.standard_b64decode(\"UTIgPSAoCiAgICBzYWxlc19kZgogICAgLmdyb3VwQnkoJ2N1c3RvbWVyX2lkJykKICAgIC5hZ2coCiAgICAgICAgRi5jb3VudERpc3RpbmN0KCdvcmRlcl9kYXRlJykuYWxpYXMoJ0RheXMnKQogICAgKQogICAgLm9yZGVyQnkoRi5jb2woJ0RheXMnKS5kZXNjKCkpCikKZGlzcGxheShRMik=\").decode())\n\ntry:\n    # run user code\n    __backend_agg_user_code_fn()\n\n    #reset display function\n    display = __backend_agg_display_orig\n\n    if len(__backend_agg_dfs) > 0:\n        # create a temp view\n        if type(__backend_agg_dfs[0]).__module__ == \"databricks.koalas.frame\":\n            # koalas dataframe\n            __backend_agg_dfs[0].to_spark().createOrReplaceTempView(\"DatabricksView8221355\")\n        elif type(__backend_agg_dfs[0]).__module__ == \"pandas.core.frame\" or isinstance(__backend_agg_dfs[0], list):\n            # pandas dataframe\n            spark.createDataFrame(__backend_agg_dfs[0]).createOrReplaceTempView(\"DatabricksView8221355\")\n        else:\n            __backend_agg_dfs[0].createOrReplaceTempView(\"DatabricksView8221355\")\n        #run backend agg\n        display(spark.sql(\"\"\"WITH q AS (select * from DatabricksView8221355) SELECT `customer_id`,SUM(`Days`) `column_8157e5332` FROM q GROUP BY `customer_id`\"\"\"))\n    else:\n        displayHTML(\"dataframe no longer exists. If you're using dataframe.display(), use display(dataframe) instead.\")\n\n\nfinally:\n    spark.sql(\"drop view if exists DatabricksView8221355\")\n    display = __backend_agg_display_orig\n    del __backend_agg_display_new\n    del __backend_agg_display_orig\n    del __backend_agg_dfs\n    del __backend_agg_user_code_fn\n\n",
       "commandTitle": "Bar Plot",
       "commandType": "auto",
       "commandVersion": 0,
       "commentThread": [],
       "commentsVisible": false,
       "contentSha256Hex": null,
       "customPlotOptions": {
        "redashChart": [
         {
          "key": "type",
          "value": "CHART"
         },
         {
          "key": "options",
          "value": {
           "alignYAxesAtZero": true,
           "coefficient": 1,
           "columnConfigurationMap": {
            "x": {
             "column": "customer_id",
             "id": "column_8157e5331"
            },
            "y": [
             {
              "column": "Days",
              "id": "column_8157e5332",
              "transform": "SUM"
             }
            ]
           },
           "dateTimeFormat": "DD/MM/YYYY HH:mm",
           "direction": {
            "type": "counterclockwise"
           },
           "error_y": {
            "type": "data",
            "visible": true
           },
           "globalSeriesType": "column",
           "isAggregationOn": true,
           "legend": {
            "traceorder": "normal"
           },
           "missingValuesAsZero": true,
           "numberFormat": "0,0.[00000]",
           "percentFormat": "0[.]00%",
           "series": {
            "error_y": {
             "type": "data",
             "visible": true
            },
            "stacking": null
           },
           "seriesOptions": {
            "column_8157e5332": {
             "name": "Days",
             "type": "column",
             "yAxis": 0
            }
           },
           "showDataLabels": false,
           "sizemode": "diameter",
           "sortX": false,
           "sortY": true,
           "swappedAxes": false,
           "textFormat": "",
           "useAggregationsUi": true,
           "valuesOptions": {},
           "version": 2,
           "xAxis": {
            "labels": {
             "enabled": true
            },
            "type": "-"
           },
           "yAxis": [
            {
             "type": "-"
            },
            {
             "opposite": true,
             "type": "-"
            }
           ]
          }
         }
        ]
       },
       "datasetPreviewNameToCmdIdMap": {},
       "diffDeletes": [],
       "diffInserts": [],
       "displayType": "redashChart",
       "error": null,
       "errorDetails": null,
       "errorSummary": null,
       "errorTraceType": null,
       "finishTime": 0,
       "globalVars": {},
       "guid": "",
       "height": "auto",
       "hideCommandCode": false,
       "hideCommandResult": false,
       "iPythonMetadata": null,
       "inputWidgets": {},
       "isLockedInExamMode": false,
       "latestUser": "a user",
       "latestUserId": null,
       "listResultMetadata": null,
       "metadata": {
        "byteLimit": 2048000,
        "rowLimit": 10000
       },
       "nuid": "f6fbec42-55ae-4cf0-93dc-82e358c29e7e",
       "origId": 0,
       "parentHierarchy": [],
       "pivotAggregation": null,
       "pivotColumns": null,
       "position": 17.0,
       "resultDbfsErrorMessage": null,
       "resultDbfsStatus": "INLINED_IN_TREE",
       "results": null,
       "showCommandTitle": false,
       "startTime": 0,
       "state": "finished",
       "streamStates": {},
       "subcommandOptions": {
        "queryPlan": {
         "groups": [
          {
           "column": "customer_id",
           "type": "column"
          }
         ],
         "selects": [
          {
           "column": "customer_id",
           "type": "column"
          },
          {
           "alias": "column_8157e5332",
           "args": [
            {
             "column": "Days",
             "type": "column"
            }
           ],
           "function": "SUM",
           "type": "function"
          }
         ]
        }
       },
       "submitTime": 0,
       "subtype": "tableResultSubCmd.visualization",
       "tableResultIndex": 0,
       "useConsistentColors": false,
       "version": "CommandV1",
       "width": "auto",
       "workflows": [],
       "xColumns": null,
       "yColumns": null
      }
     },
     "output_type": "display_data"
    }
   ],
   "source": [
    "Q2 = (\n",
    "    sales_df\n",
    "    .groupBy('customer_id')\n",
    "    .agg(\n",
    "        F.countDistinct('order_date').alias('Days')\n",
    "    )\n",
    "    .orderBy(F.col('Days').desc())\n",
    ")\n",
    "display(Q2)"
   ]
  },
  {
   "cell_type": "code",
   "execution_count": 0,
   "metadata": {
    "application/vnd.databricks.v1+cell": {
     "cellMetadata": {
      "byteLimit": 2048000,
      "rowLimit": 10000
     },
     "inputWidgets": {},
     "nuid": "e69f7e11-bd52-4c9c-b412-6c965c2c21ca",
     "showTitle": false,
     "title": ""
    }
   },
   "outputs": [
    {
     "output_type": "stream",
     "name": "stdout",
     "output_type": "stream",
     "text": [
      "Out[15]: <function matplotlib.pyplot.show(close=None, block=None)>"
     ]
    },
    {
     "output_type": "display_data",
     "data": {
      "image/png": "[encoded data removed]"
     },
     "metadata": {
      "application/vnd.databricks.v1+output": {
       "addedWidgets": {},
       "arguments": {},
       "data": "data:image/png;base64,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\n",
       "datasetInfos": [],
       "metadata": {},
       "removedWidgets": [],
       "type": "image"
      }
     },
     "output_type": "display_data"
    }
   ],
   "source": [
    "Q2_pandas = Q2.toPandas()\n",
    "sns.set('notebook')\n",
    "sns.set_style('white')\n",
    "fig, ax = plt.subplots()\n",
    "\n",
    "sns.barplot(\n",
    "    data=Q2_pandas,\n",
    "    x='customer_id',\n",
    "    y='Days',\n",
    "    ax=ax\n",
    ")\n",
    "\n",
    "fig.suptitle('Customer attend', fontsize=20)\n",
    "plt.xlabel('Customer', fontsize=18),\n",
    "plt.ylabel('Days', fontsize=16)\n",
    "\n",
    "plt.show"
   ]
  },
  {
   "cell_type": "markdown",
   "metadata": {
    "application/vnd.databricks.v1+cell": {
     "cellMetadata": {
      "byteLimit": 2048000,
      "rowLimit": 10000
     },
     "inputWidgets": {},
     "nuid": "86640324-d2a6-4aac-b15b-b179344e1c7e",
     "showTitle": false,
     "title": ""
    }
   },
   "source": [
    "### Which was the first item each client bought?"
   ]
  },
  {
   "cell_type": "markdown",
   "metadata": {
    "application/vnd.databricks.v1+cell": {
     "cellMetadata": {
      "byteLimit": 2048000,
      "rowLimit": 10000
     },
     "inputWidgets": {},
     "nuid": "f5f763bf-7525-41c1-9004-d4633a288075",
     "showTitle": false,
     "title": ""
    }
   },
   "source": [
    "To answer this question, we can join table sales and menu, use create new column to write new index based on customer_id and order by their order date. After that, we can return what we need using filter only row number == 1, and select only desire column\n"
   ]
  },
  {
   "cell_type": "code",
   "execution_count": 0,
   "metadata": {
    "application/vnd.databricks.v1+cell": {
     "cellMetadata": {
      "byteLimit": 2048000,
      "rowLimit": 10000
     },
     "inputWidgets": {},
     "nuid": "cb70da18-0e95-421f-9d76-341bec24e246",
     "showTitle": false,
     "title": ""
    }
   },
   "outputs": [
    {
     "output_type": "display_data",
     "data": {
      "text/html": [
       "<style scoped>\n",
       "  .table-result-container {\n",
       "    max-height: 300px;\n",
       "    overflow: auto;\n",
       "  }\n",
       "  table, th, td {\n",
       "    border: 1px solid black;\n",
       "    border-collapse: collapse;\n",
       "  }\n",
       "  th, td {\n",
       "    padding: 5px;\n",
       "  }\n",
       "  th {\n",
       "    text-align: left;\n",
       "  }\n",
       "</style><div class='table-result-container'><table class='table-result'><thead style='background-color: white'><tr><th>customer_id</th><th>date of first order</th><th>first item</th></tr></thead><tbody><tr><td>A</td><td>2021-01-01</td><td>sushi</td></tr><tr><td>B</td><td>2021-01-01</td><td>curry</td></tr><tr><td>C</td><td>2021-01-01</td><td>ramen</td></tr></tbody></table></div>"
      ]
     },
     "metadata": {
      "application/vnd.databricks.v1+output": {
       "addedWidgets": {},
       "aggData": [],
       "aggError": "",
       "aggOverflow": false,
       "aggSchema": [],
       "aggSeriesLimitReached": false,
       "aggType": "",
       "arguments": {},
       "columnCustomDisplayInfos": {},
       "data": [
        [
         "A",
         "2021-01-01",
         "sushi"
        ],
        [
         "B",
         "2021-01-01",
         "curry"
        ],
        [
         "C",
         "2021-01-01",
         "ramen"
        ]
       ],
       "datasetInfos": [],
       "dbfsResultPath": null,
       "isJsonSchema": true,
       "metadata": {},
       "overflow": false,
       "plotOptions": {
        "customPlotOptions": {},
        "displayType": "table",
        "pivotAggregation": null,
        "pivotColumns": null,
        "xColumns": null,
        "yColumns": null
       },
       "removedWidgets": [],
       "schema": [
        {
         "metadata": "{}",
         "name": "customer_id",
         "type": "\"string\""
        },
        {
         "metadata": "{}",
         "name": "date of first order",
         "type": "\"date\""
        },
        {
         "metadata": "{}",
         "name": "first item",
         "type": "\"string\""
        }
       ],
       "type": "table"
      }
     },
     "output_type": "display_data"
    }
   ],
   "source": [
    "Q3 = (\n",
    "    sales_df\n",
    "    .join(\n",
    "        menu_df,\n",
    "        sales_df.product_id == menu_df.product_id,\n",
    "        \"inner\"\n",
    "    )\n",
    "\n",
    "    # get the row_number using partition by customer, ordering by order_Date\n",
    "    .withColumn(\n",
    "        'row_number', F.row_number().over(\n",
    "            Window\n",
    "            .partitionBy('customer_id')\n",
    "            .orderBy('order_date')\n",
    "        )\n",
    "    )\n",
    "    # only return the data we need\n",
    "    .filter('row_number==1')\n",
    "    .select('customer_id', 'order_date', 'product_name')\n",
    "\n",
    "    #rename the column name so it will more understandable\n",
    "    .withColumnRenamed('product_name', 'first item')\n",
    "    .withColumnRenamed('order_date', 'date of first order')\n",
    ")\n",
    "display(Q3)"
   ]
  },
  {
   "cell_type": "markdown",
   "metadata": {
    "application/vnd.databricks.v1+cell": {
     "cellMetadata": {
      "byteLimit": 2048000,
      "rowLimit": 10000
     },
     "inputWidgets": {},
     "nuid": "7005819f-a52e-4f67-a9da-e3a45a014117",
     "showTitle": false,
     "title": ""
    }
   },
   "source": [
    "### Which was the most popular plate in the menu? How many times did the customers buy it?"
   ]
  },
  {
   "cell_type": "markdown",
   "metadata": {
    "application/vnd.databricks.v1+cell": {
     "cellMetadata": {
      "byteLimit": 2048000,
      "rowLimit": 10000
     },
     "inputWidgets": {},
     "nuid": "03ce5e17-2bfa-4347-95e9-f3985d07ef8e",
     "showTitle": false,
     "title": ""
    }
   },
   "source": [
    "Looks like we need to look at the sales table. But don't forget to join sales table with the menu table first to get information about the product name. Subsequently, we can group the table by product_name, count occurrences of each product_name, and then arrange the results in descending order based on total sales. Finally, we can limit the output to just one result."
   ]
  },
  {
   "cell_type": "code",
   "execution_count": 0,
   "metadata": {
    "application/vnd.databricks.v1+cell": {
     "cellMetadata": {
      "byteLimit": 2048000,
      "rowLimit": 10000
     },
     "inputWidgets": {},
     "nuid": "91fb15e4-d09a-4c2c-89fb-3e1b5efdea42",
     "showTitle": false,
     "title": ""
    }
   },
   "outputs": [
    {
     "output_type": "display_data",
     "data": {
      "text/html": [
       "<style scoped>\n",
       "  .table-result-container {\n",
       "    max-height: 300px;\n",
       "    overflow: auto;\n",
       "  }\n",
       "  table, th, td {\n",
       "    border: 1px solid black;\n",
       "    border-collapse: collapse;\n",
       "  }\n",
       "  th, td {\n",
       "    padding: 5px;\n",
       "  }\n",
       "  th {\n",
       "    text-align: left;\n",
       "  }\n",
       "</style><div class='table-result-container'><table class='table-result'><thead style='background-color: white'><tr><th>product_name</th><th>Total Sales</th></tr></thead><tbody><tr><td>ramen</td><td>8</td></tr></tbody></table></div>"
      ]
     },
     "metadata": {
      "application/vnd.databricks.v1+output": {
       "addedWidgets": {},
       "aggData": [],
       "aggError": "",
       "aggOverflow": false,
       "aggSchema": [],
       "aggSeriesLimitReached": false,
       "aggType": "",
       "arguments": {},
       "columnCustomDisplayInfos": {},
       "data": [
        [
         "ramen",
         8
        ]
       ],
       "datasetInfos": [],
       "dbfsResultPath": null,
       "isJsonSchema": true,
       "metadata": {},
       "overflow": false,
       "plotOptions": {
        "customPlotOptions": {},
        "displayType": "table",
        "pivotAggregation": null,
        "pivotColumns": null,
        "xColumns": null,
        "yColumns": null
       },
       "removedWidgets": [],
       "schema": [
        {
         "metadata": "{}",
         "name": "product_name",
         "type": "\"string\""
        },
        {
         "metadata": "{}",
         "name": "Total Sales",
         "type": "\"long\""
        }
       ],
       "type": "table"
      }
     },
     "output_type": "display_data"
    }
   ],
   "source": [
    "Q4 = (\n",
    "    sales_df\n",
    "    .join(\n",
    "        menu_df,\n",
    "        sales_df.product_id == menu_df.product_id,\n",
    "        'inner'\n",
    "    )\n",
    "    .groupBy('product_name')\n",
    "    .agg(\n",
    "        F.count('product_name').alias('Total Sales')\n",
    "    )\n",
    "    .orderBy(F.col('Total Sales').desc())\n",
    "    .limit(1)\n",
    ")\n",
    "\n",
    "display(Q4)"
   ]
  },
  {
   "cell_type": "markdown",
   "metadata": {
    "application/vnd.databricks.v1+cell": {
     "cellMetadata": {
      "byteLimit": 2048000,
      "rowLimit": 10000
     },
     "inputWidgets": {},
     "nuid": "96d1801b-9302-4440-b43a-7628fd912c33",
     "showTitle": false,
     "title": ""
    }
   },
   "source": [
    "### Which was the most preffered plate by each customer?"
   ]
  },
  {
   "cell_type": "markdown",
   "metadata": {
    "application/vnd.databricks.v1+cell": {
     "cellMetadata": {
      "byteLimit": 2048000,
      "rowLimit": 10000
     },
     "inputWidgets": {},
     "nuid": "d5b21284-1055-41c0-afa5-d0295d2766dd",
     "showTitle": false,
     "title": ""
    }
   },
   "source": [
    "Looks like we need to make a new column called rank using partition based on customer_id and order it by total sales. Don't forget to filter only the most preferred plate"
   ]
  },
  {
   "cell_type": "code",
   "execution_count": 0,
   "metadata": {
    "application/vnd.databricks.v1+cell": {
     "cellMetadata": {
      "byteLimit": 2048000,
      "rowLimit": 10000
     },
     "inputWidgets": {},
     "nuid": "049ae35e-8640-43d3-8001-0868739e793d",
     "showTitle": false,
     "title": ""
    }
   },
   "outputs": [
    {
     "output_type": "display_data",
     "data": {
      "text/html": [
       "<style scoped>\n",
       "  .table-result-container {\n",
       "    max-height: 300px;\n",
       "    overflow: auto;\n",
       "  }\n",
       "  table, th, td {\n",
       "    border: 1px solid black;\n",
       "    border-collapse: collapse;\n",
       "  }\n",
       "  th, td {\n",
       "    padding: 5px;\n",
       "  }\n",
       "  th {\n",
       "    text-align: left;\n",
       "  }\n",
       "</style><div class='table-result-container'><table class='table-result'><thead style='background-color: white'><tr><th>customer_id</th><th>product_name</th><th>Total Sales</th><th>plate_rank</th></tr></thead><tbody><tr><td>A</td><td>ramen</td><td>3</td><td>1</td></tr><tr><td>B</td><td>sushi</td><td>2</td><td>1</td></tr><tr><td>B</td><td>ramen</td><td>2</td><td>1</td></tr><tr><td>B</td><td>curry</td><td>2</td><td>1</td></tr><tr><td>C</td><td>ramen</td><td>3</td><td>1</td></tr></tbody></table></div>"
      ]
     },
     "metadata": {
      "application/vnd.databricks.v1+output": {
       "addedWidgets": {},
       "aggData": [],
       "aggError": "",
       "aggOverflow": false,
       "aggSchema": [],
       "aggSeriesLimitReached": false,
       "aggType": "",
       "arguments": {},
       "columnCustomDisplayInfos": {},
       "data": [
        [
         "A",
         "ramen",
         3,
         1
        ],
        [
         "B",
         "sushi",
         2,
         1
        ],
        [
         "B",
         "ramen",
         2,
         1
        ],
        [
         "B",
         "curry",
         2,
         1
        ],
        [
         "C",
         "ramen",
         3,
         1
        ]
       ],
       "datasetInfos": [],
       "dbfsResultPath": null,
       "isJsonSchema": true,
       "metadata": {},
       "overflow": false,
       "plotOptions": {
        "customPlotOptions": {},
        "displayType": "table",
        "pivotAggregation": null,
        "pivotColumns": null,
        "xColumns": null,
        "yColumns": null
       },
       "removedWidgets": [],
       "schema": [
        {
         "metadata": "{}",
         "name": "customer_id",
         "type": "\"string\""
        },
        {
         "metadata": "{}",
         "name": "product_name",
         "type": "\"string\""
        },
        {
         "metadata": "{}",
         "name": "Total Sales",
         "type": "\"long\""
        },
        {
         "metadata": "{}",
         "name": "plate_rank",
         "type": "\"integer\""
        }
       ],
       "type": "table"
      }
     },
     "output_type": "display_data"
    }
   ],
   "source": [
    "Q5 = (\n",
    "    sales_df\n",
    "    .join(\n",
    "        menu_df,\n",
    "        sales_df.product_id == menu_df.product_id,\n",
    "        'inner'\n",
    "    )\n",
    "    .groupBy('customer_id','product_name')\n",
    "    .agg(\n",
    "        F.count('product_name').alias('Total Sales')\n",
    "    )\n",
    "\n",
    "    #get rank number using partition by customer id and order by total sales \n",
    "    .withColumn('plate_rank', F.rank().over(\n",
    "        Window\n",
    "        .partitionBy('customer_id')\n",
    "        .orderBy(F.col('Total Sales').desc())\n",
    "    ))\n",
    "    #.orderBy(F.col('plate_rank').asc())\n",
    "    .filter('plate_rank==1')\n",
    ")\n",
    "\n",
    "display(Q5)"
   ]
  },
  {
   "cell_type": "markdown",
   "metadata": {
    "application/vnd.databricks.v1+cell": {
     "cellMetadata": {
      "byteLimit": 2048000,
      "rowLimit": 10000
     },
     "inputWidgets": {},
     "nuid": "b33961ce-5d06-46dc-9055-8d5fc86aafe5",
     "showTitle": false,
     "title": ""
    }
   },
   "source": [
    "### What was the first item after the client became member?"
   ]
  },
  {
   "cell_type": "markdown",
   "metadata": {
    "application/vnd.databricks.v1+cell": {
     "cellMetadata": {
      "byteLimit": 2048000,
      "rowLimit": 10000
     },
     "inputWidgets": {},
     "nuid": "23ac715d-2e92-45c6-8d16-b2473e5acbc5",
     "showTitle": false,
     "title": ""
    }
   },
   "source": [
    "we can take a look at members table first, we have customer_id and join_date. \n",
    "And then, we look at sales table"
   ]
  },
  {
   "cell_type": "markdown",
   "metadata": {
    "application/vnd.databricks.v1+cell": {
     "cellMetadata": {
      "byteLimit": 2048000,
      "rowLimit": 10000
     },
     "inputWidgets": {},
     "nuid": "d1941fd7-15d6-453e-b5b7-e9f68187a6e7",
     "showTitle": false,
     "title": ""
    }
   },
   "source": [
    "we can return only customer_id with order_date has the same date with join_date"
   ]
  },
  {
   "cell_type": "code",
   "execution_count": 0,
   "metadata": {
    "application/vnd.databricks.v1+cell": {
     "cellMetadata": {
      "byteLimit": 2048000,
      "rowLimit": 10000
     },
     "inputWidgets": {},
     "nuid": "e5c8c564-c734-4944-a5ef-d74cec739003",
     "showTitle": false,
     "title": ""
    }
   },
   "outputs": [
    {
     "output_type": "stream",
     "name": "stdout",
     "output_type": "stream",
     "text": [
      "+-----------+----------+-----------+----------+----------+----------+\n|customer_id| join_date|customer_id|order_date|product_id|order_rank|\n+-----------+----------+-----------+----------+----------+----------+\n|          A|2021-01-07|          A|2021-01-07|         2|         1|\n|          B|2021-01-09|          B|2021-01-11|         1|         1|\n+-----------+----------+-----------+----------+----------+----------+\n\n"
     ]
    }
   ],
   "source": [
    "Q6 = (\n",
    "    members_df\n",
    "    .join(\n",
    "        sales_df,\n",
    "        (members_df.customer_id == sales_df.customer_id)\n",
    "            & (members_df.join_date <= sales_df.order_date)\n",
    "    )\n",
    "    .withColumn('order_rank', F.rank().over(\n",
    "        Window\n",
    "        .partitionBy(members_df.customer_id)\n",
    "        .orderBy(F.col('order_date'))\n",
    "    ))\n",
    "    .filter('order_rank==1')\n",
    "    \n",
    ")\n",
    "\n",
    "Q6.show()"
   ]
  },
  {
   "cell_type": "markdown",
   "metadata": {
    "application/vnd.databricks.v1+cell": {
     "cellMetadata": {
      "byteLimit": 2048000,
      "rowLimit": 10000
     },
     "inputWidgets": {},
     "nuid": "a6335cb5-f605-416c-8741-fb555363bcb3",
     "showTitle": false,
     "title": ""
    }
   },
   "source": [
    "Nice job, now you have table with information customer_id and product_id who is the first order after join member. the next question is how to join menu table so our table would be complete"
   ]
  },
  {
   "cell_type": "code",
   "execution_count": 0,
   "metadata": {
    "application/vnd.databricks.v1+cell": {
     "cellMetadata": {
      "byteLimit": 2048000,
      "rowLimit": 10000
     },
     "inputWidgets": {},
     "nuid": "bf73995e-efbf-4a3b-9bf6-d2128d4b556b",
     "showTitle": false,
     "title": ""
    }
   },
   "outputs": [
    {
     "output_type": "stream",
     "name": "stdout",
     "output_type": "stream",
     "text": [
      "+-----------+----------+----------+------------+\n|customer_id| join_date|order_date|product_name|\n+-----------+----------+----------+------------+\n|          A|2021-01-07|2021-01-07|       curry|\n|          B|2021-01-09|2021-01-11|       sushi|\n+-----------+----------+----------+------------+\n\n"
     ]
    }
   ],
   "source": [
    "Q6 = (\n",
    "    members_df\n",
    "    .join(\n",
    "        sales_df,\n",
    "        (members_df.customer_id == sales_df.customer_id)\n",
    "            & (members_df.join_date <= sales_df.order_date)\n",
    "    ).join (\n",
    "        menu_df,\n",
    "        \"product_id\"\n",
    "    )\n",
    "    .withColumn('order_rank', F.rank().over(\n",
    "        Window\n",
    "        .partitionBy(members_df.customer_id)\n",
    "        .orderBy(F.col('order_date'))\n",
    "    ))\n",
    "    .filter('order_rank==1')\n",
    "    .select([sales_df.customer_id, \"join_date\", \"order_date\", \"product_name\"] )\n",
    "    \n",
    ")\n",
    "\n",
    "Q6.show()"
   ]
  },
  {
   "cell_type": "markdown",
   "metadata": {
    "application/vnd.databricks.v1+cell": {
     "cellMetadata": {
      "byteLimit": 2048000,
      "rowLimit": 10000
     },
     "inputWidgets": {},
     "nuid": "83346350-6078-4c2c-83a9-b2d0f31122fe",
     "showTitle": false,
     "title": ""
    }
   },
   "source": [
    "### What was the item before the client became member?"
   ]
  },
  {
   "cell_type": "code",
   "execution_count": 0,
   "metadata": {
    "application/vnd.databricks.v1+cell": {
     "cellMetadata": {
      "byteLimit": 2048000,
      "rowLimit": 10000
     },
     "inputWidgets": {},
     "nuid": "4882a5f9-ab3d-4231-a609-80e4e96a51e5",
     "showTitle": false,
     "title": ""
    }
   },
   "outputs": [
    {
     "output_type": "stream",
     "name": "stdout",
     "output_type": "stream",
     "text": [
      "+-----------+----------+----------+------------+\n|customer_id| join_date|order_date|product_name|\n+-----------+----------+----------+------------+\n|          A|2021-01-07|2021-01-01|       sushi|\n|          A|2021-01-07|2021-01-01|       curry|\n|          B|2021-01-09|2021-01-04|       sushi|\n+-----------+----------+----------+------------+\n\n"
     ]
    }
   ],
   "source": [
    "Q7 = (\n",
    "    members_df\n",
    "    .join(\n",
    "        sales_df,\n",
    "        (members_df.customer_id == sales_df.customer_id)\n",
    "            & (members_df.join_date > sales_df.order_date)\n",
    "    ).join (\n",
    "        menu_df,\n",
    "        \"product_id\"\n",
    "    )\n",
    "    .withColumn('order_rank', F.rank().over(\n",
    "        Window\n",
    "        .partitionBy(members_df.customer_id)\n",
    "        .orderBy(F.col('order_date').desc())\n",
    "    ))\n",
    "    .filter('order_rank==1')\n",
    "    .select([sales_df.customer_id, \"join_date\", \"order_date\", \"product_name\"] )\n",
    "    \n",
    ")\n",
    "\n",
    "Q7.show()"
   ]
  },
  {
   "cell_type": "markdown",
   "metadata": {
    "application/vnd.databricks.v1+cell": {
     "cellMetadata": {
      "byteLimit": 2048000,
      "rowLimit": 10000
     },
     "inputWidgets": {},
     "nuid": "8d3180b0-af68-441f-8b7d-20a24e2c9188",
     "showTitle": false,
     "title": ""
    }
   },
   "source": [
    "### How much money and articles did a customer buy before becoming a member?"
   ]
  },
  {
   "cell_type": "code",
   "execution_count": 0,
   "metadata": {
    "application/vnd.databricks.v1+cell": {
     "cellMetadata": {
      "byteLimit": 2048000,
      "rowLimit": 10000
     },
     "inputWidgets": {},
     "nuid": "3035973b-7090-4459-848d-8873e0d1768f",
     "showTitle": false,
     "title": ""
    }
   },
   "outputs": [
    {
     "output_type": "display_data",
     "data": {
      "text/html": [
       "<style scoped>\n",
       "  .table-result-container {\n",
       "    max-height: 300px;\n",
       "    overflow: auto;\n",
       "  }\n",
       "  table, th, td {\n",
       "    border: 1px solid black;\n",
       "    border-collapse: collapse;\n",
       "  }\n",
       "  th, td {\n",
       "    padding: 5px;\n",
       "  }\n",
       "  th {\n",
       "    text-align: left;\n",
       "  }\n",
       "</style><div class='table-result-container'><table class='table-result'><thead style='background-color: white'><tr><th>customer_id</th><th>sum(price)</th></tr></thead><tbody><tr><td>B</td><td>40</td></tr><tr><td>A</td><td>25</td></tr></tbody></table></div>"
      ]
     },
     "metadata": {
      "application/vnd.databricks.v1+output": {
       "addedWidgets": {},
       "aggData": [],
       "aggError": "",
       "aggOverflow": false,
       "aggSchema": [],
       "aggSeriesLimitReached": false,
       "aggType": "",
       "arguments": {},
       "columnCustomDisplayInfos": {},
       "data": [
        [
         "B",
         40
        ],
        [
         "A",
         25
        ]
       ],
       "datasetInfos": [],
       "dbfsResultPath": null,
       "isJsonSchema": true,
       "metadata": {},
       "overflow": false,
       "plotOptions": {
        "customPlotOptions": {},
        "displayType": "table",
        "pivotAggregation": null,
        "pivotColumns": null,
        "xColumns": null,
        "yColumns": null
       },
       "removedWidgets": [],
       "schema": [
        {
         "metadata": "{}",
         "name": "customer_id",
         "type": "\"string\""
        },
        {
         "metadata": "{}",
         "name": "sum(price)",
         "type": "\"long\""
        }
       ],
       "type": "table"
      }
     },
     "output_type": "display_data"
    }
   ],
   "source": [
    "Q8 = (\n",
    "    members_df\n",
    "    .join(\n",
    "        sales_df,\n",
    "        (members_df.customer_id == sales_df.customer_id)\n",
    "            & (members_df.join_date > sales_df.order_date)\n",
    "    ).join (\n",
    "        menu_df,\n",
    "        \"product_id\"\n",
    "    )\n",
    "    .withColumn('order_rank', F.rank().over(\n",
    "        Window\n",
    "        .partitionBy(members_df.customer_id)\n",
    "        .orderBy(F.col('order_date').desc())\n",
    "    ))\n",
    "    .groupBy (\n",
    "        members_df.customer_id\n",
    "    )\n",
    "    .agg (\n",
    "        F.sum('price')\n",
    "    )\n",
    "    \n",
    ")\n",
    "\n",
    "display(Q8)"
   ]
  },
  {
   "cell_type": "markdown",
   "metadata": {
    "application/vnd.databricks.v1+cell": {
     "cellMetadata": {
      "byteLimit": 2048000,
      "rowLimit": 10000
     },
     "inputWidgets": {},
     "nuid": "338edc80-2aba-46eb-bdd2-d3641d83906f",
     "showTitle": false,
     "title": ""
    }
   },
   "source": [
    "### If each $1 is worth of 10 points and when is sushi you get double points? How much points each customer has?"
   ]
  },
  {
   "cell_type": "code",
   "execution_count": 0,
   "metadata": {
    "application/vnd.databricks.v1+cell": {
     "cellMetadata": {
      "byteLimit": 2048000,
      "rowLimit": 10000
     },
     "inputWidgets": {},
     "nuid": "47f0931e-647d-43ab-884e-0c7544c7db2c",
     "showTitle": false,
     "title": ""
    }
   },
   "outputs": [
    {
     "output_type": "display_data",
     "data": {
      "text/html": [
       "<style scoped>\n",
       "  .table-result-container {\n",
       "    max-height: 300px;\n",
       "    overflow: auto;\n",
       "  }\n",
       "  table, th, td {\n",
       "    border: 1px solid black;\n",
       "    border-collapse: collapse;\n",
       "  }\n",
       "  th, td {\n",
       "    padding: 5px;\n",
       "  }\n",
       "  th {\n",
       "    text-align: left;\n",
       "  }\n",
       "</style><div class='table-result-container'><table class='table-result'><thead style='background-color: white'><tr><th>customer_id</th><th>Total points</th></tr></thead><tbody><tr><td>B</td><td>940</td></tr><tr><td>A</td><td>860</td></tr><tr><td>C</td><td>360</td></tr></tbody></table></div>"
      ]
     },
     "metadata": {
      "application/vnd.databricks.v1+output": {
       "addedWidgets": {},
       "aggData": [],
       "aggError": "",
       "aggOverflow": false,
       "aggSchema": [],
       "aggSeriesLimitReached": false,
       "aggType": "",
       "arguments": {},
       "columnCustomDisplayInfos": {},
       "data": [
        [
         "B",
         940
        ],
        [
         "A",
         860
        ],
        [
         "C",
         360
        ]
       ],
       "datasetInfos": [],
       "dbfsResultPath": null,
       "isJsonSchema": true,
       "metadata": {},
       "overflow": false,
       "plotOptions": {
        "customPlotOptions": {},
        "displayType": "table",
        "pivotAggregation": null,
        "pivotColumns": null,
        "xColumns": null,
        "yColumns": null
       },
       "removedWidgets": [],
       "schema": [
        {
         "metadata": "{}",
         "name": "customer_id",
         "type": "\"string\""
        },
        {
         "metadata": "{}",
         "name": "Total points",
         "type": "\"long\""
        }
       ],
       "type": "table"
      }
     },
     "output_type": "display_data"
    },
    {
     "output_type": "display_data",
     "data": {
      "text/plain": [
       "Databricks visualization. Run in Databricks to view."
      ]
     },
     "metadata": {
      "application/vnd.databricks.v1.subcommand+json": {
       "baseErrorDetails": null,
       "bindings": {},
       "collapsed": false,
       "command": "%python\n__backend_agg_display_orig = display\n__backend_agg_dfs = []\ndef __backend_agg_display_new(df):\n    __backend_agg_df_modules = [\"pandas.core.frame\", \"databricks.koalas.frame\", \"pyspark.sql.dataframe\", \"pyspark.pandas.frame\", \"pyspark.sql.connect.dataframe\"]\n    if (type(df).__module__ in __backend_agg_df_modules and type(df).__name__ == 'DataFrame') or isinstance(df, list):\n        __backend_agg_dfs.append(df)\n\ndisplay = __backend_agg_display_new\n\ndef __backend_agg_user_code_fn():\n    import base64\n    exec(base64.standard_b64decode(\"UTkgPSAoCiAgICBzYWxlc19kZgogICAgLmpvaW4oCiAgICAgICAgbWVudV9kZiwKICAgICAgICAicHJvZHVjdF9pZCIKICAgICkKICAgIC53aXRoQ29sdW1uKAogICAgICAgICJwb2ludHMiLAogICAgICAgIEYud2hlbihtZW51X2RmLnByb2R1Y3RfbmFtZSA9PSAnc3VzaGknLCAobWVudV9kZi5wcmljZSAqIDEwICogMikpLm90aGVyd2lzZShtZW51X2RmLnByaWNlKjEwKQogICAgKQogICAgLmdyb3VwQnkoCiAgICAgICAgImN1c3RvbWVyX2lkIgogICAgKQogICAgLmFnZygKICAgICAgICBGLnN1bSgicG9pbnRzIikuYWxpYXMoIlRvdGFsIHBvaW50cyIpCiAgICApCiAgICAub3JkZXJCeSgKICAgICAgICBGLmNvbCgiVG90YWwgcG9pbnRzIikuZGVzYygpKQopCgpkaXNwbGF5KFE5KQ==\").decode())\n\ntry:\n    # run user code\n    __backend_agg_user_code_fn()\n\n    #reset display function\n    display = __backend_agg_display_orig\n\n    if len(__backend_agg_dfs) > 0:\n        # create a temp view\n        if type(__backend_agg_dfs[0]).__module__ == \"databricks.koalas.frame\":\n            # koalas dataframe\n            __backend_agg_dfs[0].to_spark().createOrReplaceTempView(\"DatabricksView6b05018\")\n        elif type(__backend_agg_dfs[0]).__module__ == \"pandas.core.frame\" or isinstance(__backend_agg_dfs[0], list):\n            # pandas dataframe\n            spark.createDataFrame(__backend_agg_dfs[0]).createOrReplaceTempView(\"DatabricksView6b05018\")\n        else:\n            __backend_agg_dfs[0].createOrReplaceTempView(\"DatabricksView6b05018\")\n        #run backend agg\n        display(spark.sql(\"\"\"WITH q AS (select * from DatabricksView6b05018) SELECT `customer_id`,SUM(`Total points`) `column_8157e5334` FROM q GROUP BY `customer_id`\"\"\"))\n    else:\n        displayHTML(\"dataframe no longer exists. If you're using dataframe.display(), use display(dataframe) instead.\")\n\n\nfinally:\n    spark.sql(\"drop view if exists DatabricksView6b05018\")\n    display = __backend_agg_display_orig\n    del __backend_agg_display_new\n    del __backend_agg_display_orig\n    del __backend_agg_dfs\n    del __backend_agg_user_code_fn\n\n",
       "commandTitle": "Visualization 1",
       "commandType": "auto",
       "commandVersion": 0,
       "commentThread": [],
       "commentsVisible": false,
       "contentSha256Hex": null,
       "customPlotOptions": {
        "redashChart": [
         {
          "key": "type",
          "value": "CHART"
         },
         {
          "key": "options",
          "value": {
           "alignYAxesAtZero": true,
           "coefficient": 1,
           "columnConfigurationMap": {
            "x": {
             "column": "customer_id",
             "id": "column_8157e5333"
            },
            "y": [
             {
              "column": "Total points",
              "id": "column_8157e5334",
              "transform": "SUM"
             }
            ]
           },
           "dateTimeFormat": "DD/MM/YYYY HH:mm",
           "direction": {
            "type": "counterclockwise"
           },
           "error_y": {
            "type": "data",
            "visible": true
           },
           "globalSeriesType": "column",
           "isAggregationOn": true,
           "legend": {
            "traceorder": "normal"
           },
           "missingValuesAsZero": true,
           "numberFormat": "0,0.[00000]",
           "percentFormat": "0[.]00%",
           "series": {
            "error_y": {
             "type": "data",
             "visible": true
            },
            "stacking": null
           },
           "seriesOptions": {
            "column_8157e5334": {
             "name": "Total points",
             "yAxis": 0
            }
           },
           "showDataLabels": false,
           "sizemode": "diameter",
           "sortX": false,
           "sortY": true,
           "swappedAxes": false,
           "textFormat": "",
           "useAggregationsUi": true,
           "valuesOptions": {},
           "version": 2,
           "xAxis": {
            "labels": {
             "enabled": true
            },
            "type": "-"
           },
           "yAxis": [
            {
             "type": "-"
            },
            {
             "opposite": true,
             "type": "-"
            }
           ]
          }
         }
        ]
       },
       "datasetPreviewNameToCmdIdMap": {},
       "diffDeletes": [],
       "diffInserts": [],
       "displayType": "redashChart",
       "error": null,
       "errorDetails": null,
       "errorSummary": null,
       "errorTraceType": null,
       "finishTime": 0,
       "globalVars": {},
       "guid": "",
       "height": "auto",
       "hideCommandCode": false,
       "hideCommandResult": false,
       "iPythonMetadata": null,
       "inputWidgets": {},
       "isLockedInExamMode": false,
       "latestUser": "a user",
       "latestUserId": null,
       "listResultMetadata": null,
       "metadata": {
        "byteLimit": 2048000,
        "rowLimit": 10000
       },
       "nuid": "f027784f-ecd4-4b9b-a59f-d70aaf5cc4c6",
       "origId": 0,
       "parentHierarchy": [],
       "pivotAggregation": null,
       "pivotColumns": null,
       "position": 40.0,
       "resultDbfsErrorMessage": null,
       "resultDbfsStatus": "INLINED_IN_TREE",
       "results": null,
       "showCommandTitle": false,
       "startTime": 0,
       "state": "finished",
       "streamStates": {},
       "subcommandOptions": {
        "queryPlan": {
         "groups": [
          {
           "column": "customer_id",
           "type": "column"
          }
         ],
         "selects": [
          {
           "column": "customer_id",
           "type": "column"
          },
          {
           "alias": "column_8157e5334",
           "args": [
            {
             "column": "Total points",
             "type": "column"
            }
           ],
           "function": "SUM",
           "type": "function"
          }
         ]
        }
       },
       "submitTime": 0,
       "subtype": "tableResultSubCmd.visualization",
       "tableResultIndex": 0,
       "useConsistentColors": false,
       "version": "CommandV1",
       "width": "auto",
       "workflows": [],
       "xColumns": null,
       "yColumns": null
      }
     },
     "output_type": "display_data"
    }
   ],
   "source": [
    "Q9 = (\n",
    "    sales_df\n",
    "    .join(\n",
    "        menu_df,\n",
    "        \"product_id\"\n",
    "    )\n",
    "    .withColumn(\n",
    "        \"points\",\n",
    "        F.when(menu_df.product_name == 'sushi', (menu_df.price * 10 * 2)).otherwise(menu_df.price*10)\n",
    "    )\n",
    "    .groupBy(\n",
    "        \"customer_id\"\n",
    "    )\n",
    "    .agg(\n",
    "        F.sum(\"points\").alias(\"Total points\")\n",
    "    )\n",
    "    .orderBy(\n",
    "        F.col(\"Total points\").desc())\n",
    ")\n",
    "\n",
    "display(Q9)"
   ]
  },
  {
   "cell_type": "markdown",
   "metadata": {
    "application/vnd.databricks.v1+cell": {
     "cellMetadata": {
      "byteLimit": 2048000,
      "rowLimit": 10000
     },
     "inputWidgets": {},
     "nuid": "525ec55c-a85f-4cf6-88cc-6dfdf18ae975",
     "showTitle": false,
     "title": ""
    }
   },
   "source": [
    "### On the first week after a client is a member (including the join date), it earns double points, not only on Sushi. How many points will customers A and B have at the end of January?"
   ]
  },
  {
   "cell_type": "code",
   "execution_count": 0,
   "metadata": {
    "application/vnd.databricks.v1+cell": {
     "cellMetadata": {
      "byteLimit": 2048000,
      "rowLimit": 10000
     },
     "inputWidgets": {},
     "nuid": "ae7a90d6-3d17-42c9-85cf-4ce5d5e188ea",
     "showTitle": false,
     "title": ""
    }
   },
   "outputs": [
    {
     "output_type": "stream",
     "name": "stdout",
     "output_type": "stream",
     "text": [
      "+-----------+------------+\n|customer_id|Total points|\n+-----------+------------+\n|          A|        1370|\n|          B|         940|\n+-----------+------------+\n\n"
     ]
    }
   ],
   "source": [
    "Q10 = (\n",
    "    sales_df\n",
    "    .join(\n",
    "        menu_df,\n",
    "        \"product_id\"\n",
    "    )\n",
    "    .join(\n",
    "        members_df,\n",
    "        \"customer_id\"\n",
    "    )\n",
    "    .withColumn(\n",
    "        \"points\",\n",
    "        F.when( (sales_df.order_date >= members_df.join_date) & (sales_df.order_date <= members_df.join_date + 7), menu_df.price*10*2)\n",
    "        .when(((sales_df.order_date < members_df.join_date) | (sales_df.order_date > members_df.join_date +7)) & (menu_df.product_name == 'sushi'), menu_df.price*10*2 )\n",
    "        .otherwise(menu_df.price*10)\n",
    "    )\n",
    "    .filter(sales_df.order_date < '2021-02-01')\n",
    "    .groupBy(\n",
    "          \"customer_id\"\n",
    "      )\n",
    "      .agg(\n",
    "          F.sum(\"points\").alias(\"Total points\")\n",
    "      )\n",
    "      .orderBy(\n",
    "          F.col(\"Total points\").desc())\n",
    ")\n",
    "\n",
    "Q10.show()"
   ]
  },
  {
   "cell_type": "code",
   "execution_count": 0,
   "metadata": {
    "application/vnd.databricks.v1+cell": {
     "cellMetadata": {
      "byteLimit": 2048000,
      "rowLimit": 10000
     },
     "inputWidgets": {},
     "nuid": "dd3a0a77-2c5c-41f7-8c5a-224c8d7f9c5b",
     "showTitle": false,
     "title": ""
    }
   },
   "outputs": [
    {
     "output_type": "display_data",
     "data": {
      "text/html": [
       "<style scoped>\n",
       "  .table-result-container {\n",
       "    max-height: 300px;\n",
       "    overflow: auto;\n",
       "  }\n",
       "  table, th, td {\n",
       "    border: 1px solid black;\n",
       "    border-collapse: collapse;\n",
       "  }\n",
       "  th, td {\n",
       "    padding: 5px;\n",
       "  }\n",
       "  th {\n",
       "    text-align: left;\n",
       "  }\n",
       "</style><div class='table-result-container'><table class='table-result'><thead style='background-color: white'><tr><th>customer_id</th><th>Total points</th></tr></thead><tbody><tr><td>A</td><td>1370</td></tr><tr><td>B</td><td>940</td></tr></tbody></table></div>"
      ]
     },
     "metadata": {
      "application/vnd.databricks.v1+output": {
       "addedWidgets": {},
       "aggData": [],
       "aggError": "",
       "aggOverflow": false,
       "aggSchema": [],
       "aggSeriesLimitReached": false,
       "aggType": "",
       "arguments": {},
       "columnCustomDisplayInfos": {},
       "data": [
        [
         "A",
         1370
        ],
        [
         "B",
         940
        ]
       ],
       "datasetInfos": [],
       "dbfsResultPath": null,
       "isJsonSchema": true,
       "metadata": {},
       "overflow": false,
       "plotOptions": {
        "customPlotOptions": {},
        "displayType": "table",
        "pivotAggregation": null,
        "pivotColumns": null,
        "xColumns": null,
        "yColumns": null
       },
       "removedWidgets": [],
       "schema": [
        {
         "metadata": "{}",
         "name": "customer_id",
         "type": "\"string\""
        },
        {
         "metadata": "{}",
         "name": "Total points",
         "type": "\"long\""
        }
       ],
       "type": "table"
      }
     },
     "output_type": "display_data"
    },
    {
     "output_type": "display_data",
     "data": {
      "text/plain": [
       "Databricks visualization. Run in Databricks to view."
      ]
     },
     "metadata": {
      "application/vnd.databricks.v1.subcommand+json": {
       "baseErrorDetails": null,
       "bindings": {},
       "collapsed": false,
       "command": "%python\n__backend_agg_display_orig = display\n__backend_agg_dfs = []\ndef __backend_agg_display_new(df):\n    __backend_agg_df_modules = [\"pandas.core.frame\", \"databricks.koalas.frame\", \"pyspark.sql.dataframe\", \"pyspark.pandas.frame\", \"pyspark.sql.connect.dataframe\"]\n    if (type(df).__module__ in __backend_agg_df_modules and type(df).__name__ == 'DataFrame') or isinstance(df, list):\n        __backend_agg_dfs.append(df)\n\ndisplay = __backend_agg_display_new\n\ndef __backend_agg_user_code_fn():\n    import base64\n    exec(base64.standard_b64decode(\"ZGlzcGxheShRMTAp\").decode())\n\ntry:\n    # run user code\n    __backend_agg_user_code_fn()\n\n    #reset display function\n    display = __backend_agg_display_orig\n\n    if len(__backend_agg_dfs) > 0:\n        # create a temp view\n        if type(__backend_agg_dfs[0]).__module__ == \"databricks.koalas.frame\":\n            # koalas dataframe\n            __backend_agg_dfs[0].to_spark().createOrReplaceTempView(\"DatabricksView2245e04\")\n        elif type(__backend_agg_dfs[0]).__module__ == \"pandas.core.frame\" or isinstance(__backend_agg_dfs[0], list):\n            # pandas dataframe\n            spark.createDataFrame(__backend_agg_dfs[0]).createOrReplaceTempView(\"DatabricksView2245e04\")\n        else:\n            __backend_agg_dfs[0].createOrReplaceTempView(\"DatabricksView2245e04\")\n        #run backend agg\n        display(spark.sql(\"\"\"WITH q AS (select * from DatabricksView2245e04) SELECT `customer_id`,SUM(`Total points`) `column_8157e5336` FROM q GROUP BY `customer_id`\"\"\"))\n    else:\n        displayHTML(\"dataframe no longer exists. If you're using dataframe.display(), use display(dataframe) instead.\")\n\n\nfinally:\n    spark.sql(\"drop view if exists DatabricksView2245e04\")\n    display = __backend_agg_display_orig\n    del __backend_agg_display_new\n    del __backend_agg_display_orig\n    del __backend_agg_dfs\n    del __backend_agg_user_code_fn\n\n",
       "commandTitle": "Visualization 1",
       "commandType": "auto",
       "commandVersion": 0,
       "commentThread": [],
       "commentsVisible": false,
       "contentSha256Hex": null,
       "customPlotOptions": {
        "redashChart": [
         {
          "key": "type",
          "value": "CHART"
         },
         {
          "key": "options",
          "value": {
           "alignYAxesAtZero": true,
           "coefficient": 1,
           "columnConfigurationMap": {
            "x": {
             "column": "customer_id",
             "id": "column_8157e5335"
            },
            "y": [
             {
              "column": "Total points",
              "id": "column_8157e5336",
              "transform": "SUM"
             }
            ]
           },
           "dateTimeFormat": "DD/MM/YYYY HH:mm",
           "direction": {
            "type": "counterclockwise"
           },
           "error_y": {
            "type": "data",
            "visible": true
           },
           "globalSeriesType": "column",
           "isAggregationOn": true,
           "legend": {
            "traceorder": "normal"
           },
           "missingValuesAsZero": true,
           "numberFormat": "0,0.[00000]",
           "percentFormat": "0[.]00%",
           "series": {
            "error_y": {
             "type": "data",
             "visible": true
            },
            "stacking": null
           },
           "seriesOptions": {
            "column_8157e5336": {
             "name": "Total points",
             "yAxis": 0
            }
           },
           "showDataLabels": false,
           "sizemode": "diameter",
           "sortX": true,
           "sortY": true,
           "swappedAxes": false,
           "textFormat": "",
           "useAggregationsUi": true,
           "valuesOptions": {},
           "version": 2,
           "xAxis": {
            "labels": {
             "enabled": true
            },
            "type": "-"
           },
           "yAxis": [
            {
             "type": "-"
            },
            {
             "opposite": true,
             "type": "-"
            }
           ]
          }
         }
        ]
       },
       "datasetPreviewNameToCmdIdMap": {},
       "diffDeletes": [],
       "diffInserts": [],
       "displayType": "redashChart",
       "error": null,
       "errorDetails": null,
       "errorSummary": null,
       "errorTraceType": null,
       "finishTime": 0,
       "globalVars": {},
       "guid": "",
       "height": "auto",
       "hideCommandCode": false,
       "hideCommandResult": false,
       "iPythonMetadata": null,
       "inputWidgets": {},
       "isLockedInExamMode": false,
       "latestUser": "a user",
       "latestUserId": null,
       "listResultMetadata": null,
       "metadata": {
        "byteLimit": 2048000,
        "rowLimit": 10000
       },
       "nuid": "6c9fcfa0-23d6-406a-9149-d48b7c924d4e",
       "origId": 0,
       "parentHierarchy": [],
       "pivotAggregation": null,
       "pivotColumns": null,
       "position": 42.5,
       "resultDbfsErrorMessage": null,
       "resultDbfsStatus": "INLINED_IN_TREE",
       "results": null,
       "showCommandTitle": false,
       "startTime": 0,
       "state": "finished",
       "streamStates": {},
       "subcommandOptions": {
        "queryPlan": {
         "groups": [
          {
           "column": "customer_id",
           "type": "column"
          }
         ],
         "selects": [
          {
           "column": "customer_id",
           "type": "column"
          },
          {
           "alias": "column_8157e5336",
           "args": [
            {
             "column": "Total points",
             "type": "column"
            }
           ],
           "function": "SUM",
           "type": "function"
          }
         ]
        }
       },
       "submitTime": 0,
       "subtype": "tableResultSubCmd.visualization",
       "tableResultIndex": 0,
       "useConsistentColors": false,
       "version": "CommandV1",
       "width": "auto",
       "workflows": [],
       "xColumns": null,
       "yColumns": null
      }
     },
     "output_type": "display_data"
    }
   ],
   "source": [
    "display(Q10)"
   ]
  },
  {
   "cell_type": "code",
   "execution_count": 0,
   "metadata": {
    "application/vnd.databricks.v1+cell": {
     "cellMetadata": {
      "byteLimit": 2048000,
      "rowLimit": 10000
     },
     "inputWidgets": {},
     "nuid": "f855cc60-827d-4dfc-a84d-6fea1e277c38",
     "showTitle": false,
     "title": ""
    }
   },
   "outputs": [],
   "source": []
  }
 ],
 "metadata": {
  "application/vnd.databricks.v1+notebook": {
   "dashboards": [],
   "language": "python",
   "notebookMetadata": {
    "mostRecentlyExecutedCommandWithImplicitDF": {
     "commandId": 1643989559510308,
     "dataframes": [
      "_sqldf"
     ]
    },
    "pythonIndentUnit": 4
   },
   "notebookName": "PySpark First Exploration",
   "widgets": {}
  }
 },
 "nbformat": 4,
 "nbformat_minor": 0
}
